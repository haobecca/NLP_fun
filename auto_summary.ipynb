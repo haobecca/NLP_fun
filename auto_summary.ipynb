{
 "cells": [
  {
   "cell_type": "markdown",
   "metadata": {},
   "source": [
    "# Colab setup"
   ]
  },
  {
   "cell_type": "code",
   "execution_count": 1,
   "metadata": {
    "colab": {
     "base_uri": "https://localhost:8080/",
     "height": 102
    },
    "colab_type": "code",
    "id": "ja7ycD8po8Gu",
    "outputId": "3455ac40-0094-4bf9-ba24-c10ab1d309a2",
    "scrolled": true
   },
   "outputs": [
    {
     "name": "stdout",
     "output_type": "stream",
     "text": [
      "[nltk_data] Downloading package punkt to /root/nltk_data...\n",
      "[nltk_data]   Package punkt is already up-to-date!\n",
      "[nltk_data] Downloading package stopwords to /root/nltk_data...\n",
      "[nltk_data]   Package stopwords is already up-to-date!\n"
     ]
    },
    {
     "data": {
      "text/plain": [
       "True"
      ]
     },
     "execution_count": 1,
     "metadata": {
      "tags": []
     },
     "output_type": "execute_result"
    }
   ],
   "source": [
    "import nltk\n",
    "nltk.download('punkt')\n",
    "nltk.download('stopwords') "
   ]
  },
  {
   "cell_type": "markdown",
   "metadata": {},
   "source": [
    "# Import packages"
   ]
  },
  {
   "cell_type": "code",
   "execution_count": 0,
   "metadata": {
    "colab": {},
    "colab_type": "code",
    "id": "m4hwiKbUoJiQ"
   },
   "outputs": [],
   "source": [
    "import requests\n",
    "from bs4 import BeautifulSoup\n",
    "from nltk.tokenize import sent_tokenize, word_tokenize\n",
    "from nltk.corpus import stopwords\n",
    "from string import punctuation\n",
    "from nltk.probability import FreqDist\n",
    "from heapq import nlargest\n",
    "from collections import defaultdict"
   ]
  },
  {
   "cell_type": "markdown",
   "metadata": {},
   "source": [
    "# Encapsulating the parsing logic into a function\n",
    "\n",
    "Each website will likely require a custom parser depending on their structure. After going over this code, please return to the Washington Post website and find an article that captures your attention. Substitute in the url and see if you like the summary. "
   ]
  },
  {
   "cell_type": "code",
   "execution_count": 0,
   "metadata": {
    "colab": {},
    "colab_type": "code",
    "id": "JNars0XtoJid"
   },
   "outputs": [],
   "source": [
    "def getTextWaPo(url):\n",
    "    # download page\n",
    "    page = requests.get(url)\n",
    "    # Instantiate soup object\n",
    "    soup = BeautifulSoup(page.content)\n",
    "    # Find all elements with a article tag, extract the text and join into one single string\n",
    "    text = ' '.join(map(lambda p: p.text, soup.find_all('article')))\n",
    "    # Remove all \\xa0\n",
    "    text = text.replace('\\xa0', ' ')\n",
    "    return text"
   ]
  },
  {
   "cell_type": "code",
   "execution_count": 0,
   "metadata": {
    "colab": {},
    "colab_type": "code",
    "id": "PADKRf0UoJit"
   },
   "outputs": [],
   "source": [
    "# Need to find better way to remove the unneeded parts of the first sentence\n",
    "# text = getTextWaPo(\"https://www.washingtonpost.com/news/the-switch/wp/2016/10/18/the-pentagons-massive-new-telescope-is-designed-to-track-space-junk-and-watch-out-for-killer-asteroids/?noredirect=on&utm_term=.fab4cac18632\")\n",
    "text = getTextWaPo(\"https://www.washingtonpost.com/opinions/global-opinions/child-death-rates-are-down-its-cause-for-optimism/2019/09/24/2b618662-dbcd-11e9-bfb1-849887369476_story.html\")"
   ]
  },
  {
   "cell_type": "markdown",
   "metadata": {},
   "source": [
    "# Encapsulate summary logic into function"
   ]
  },
  {
   "cell_type": "code",
   "execution_count": 0,
   "metadata": {
    "colab": {},
    "colab_type": "code",
    "id": "CpNqsVo4oJi0"
   },
   "outputs": [],
   "source": [
    "def summarize(text, n):\n",
    "    '''\n",
    "    This function takes a string of text and the desired number of sentences in the ouput summary as inputs.\n",
    "    '''\n",
    "    # Get list of individual sentences in the text\n",
    "    sents = sent_tokenize(text)\n",
    "    \n",
    "    # The full text must be longer than the desired summary\n",
    "    assert n <= len(sents)\n",
    "    # Get list of individual words in the text\n",
    "    word_sent = word_tokenize(text.lower())\n",
    "    # Create a set of stopwords\n",
    "    _stopwords = set(stopwords.words('english') + list(punctuation) + ['“','”'])\n",
    "    \n",
    "    # Remove stopwords from our text\n",
    "    word_sent = [word for word in word_sent if word not in _stopwords]\n",
    "    # Construct a frequency distribution of words\n",
    "    freq = FreqDist(word_sent)\n",
    "    \n",
    "    # Compute the significance score of each sentence by adding up the word frequencies. Add each ranking to a dictionary for lookup.\n",
    "    ranking = defaultdict(int)\n",
    "    for i, sent in enumerate(sents):\n",
    "        for w in word_tokenize(sent.lower()):\n",
    "            if w in freq:\n",
    "                ranking[i] += freq[w]\n",
    "    \n",
    "    #  Pick most important sentences based on signifiance score\n",
    "    sents_idx = nlargest(n, ranking, key=ranking.get)\n",
    "    # Reorder sentences based on order in original text\n",
    "    return \" \".join([sents[j] for j in sorted(sents_idx)])"
   ]
  },
  {
   "cell_type": "markdown",
   "metadata": {},
   "source": [
    "# How many sentences would you like to return?"
   ]
  },
  {
   "cell_type": "code",
   "execution_count": 8,
   "metadata": {
    "colab": {
     "base_uri": "https://localhost:8080/",
     "height": 59
    },
    "colab_type": "code",
    "id": "TobKWWwQoJi4",
    "outputId": "e2a0bfd0-bbf0-491a-de46-fc227c14733d"
   },
   "outputs": [
    {
     "data": {
      "text/plain": [
       "'In fact, the Gates Foundation’s report notes, “Health and education are improving everywhere in the world.” The share of the world’s population living on $1.90 or less per day stood at 8 percent in 2018, down from 36 percent in 1990. The U.N.’s goal was to bring to zero the number of people living in extreme poverty by 2030; that seems unlikely, according to the Gates Foundation report, but the wonder is how close the world may come. The report’s title, “Examining Inequality,” is properly intended to emphasize that people’s life chances are still far too often a matter of such factors as geography and gender. And the southwest corner of one Sahel country, Chad, has a child mortality rate — about 15 percent — that is even higher than in the rest of the country.'"
      ]
     },
     "execution_count": 8,
     "metadata": {
      "tags": []
     },
     "output_type": "execute_result"
    }
   ],
   "source": [
    "summarize(text, 4)"
   ]
  },
  {
   "cell_type": "code",
   "execution_count": 0,
   "metadata": {
    "colab": {},
    "colab_type": "code",
    "id": "3yoEEK7NoJi7"
   },
   "outputs": [],
   "source": []
  }
 ],
 "metadata": {
  "colab": {
   "name": "auto_summary.ipynb",
   "provenance": []
  },
  "kernelspec": {
   "display_name": "Python 3",
   "language": "python",
   "name": "python3"
  },
  "language_info": {
   "codemirror_mode": {
    "name": "ipython",
    "version": 3
   },
   "file_extension": ".py",
   "mimetype": "text/x-python",
   "name": "python",
   "nbconvert_exporter": "python",
   "pygments_lexer": "ipython3",
   "version": "3.7.3"
  }
 },
 "nbformat": 4,
 "nbformat_minor": 1
}
