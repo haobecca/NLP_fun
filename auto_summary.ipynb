{
 "cells": [
  {
   "cell_type": "code",
   "execution_count": 1,
   "metadata": {},
   "outputs": [],
   "source": [
    "import requests\n",
    "from bs4 import BeautifulSoup\n",
    "from nltk.tokenize import sent_tokenize, word_tokenize\n",
    "from nltk.corpus import stopwords\n",
    "from string import punctuation\n",
    "from nltk.probability import FreqDist\n",
    "from heapq import nlargest\n",
    "from collections import defaultdict"
   ]
  },
  {
   "cell_type": "code",
   "execution_count": 2,
   "metadata": {},
   "outputs": [],
   "source": [
    "# Encapsulating the parsing logic into a function\n",
    "def getTextWaPo(url):\n",
    "    # download page\n",
    "    page = requests.get(url)\n",
    "    # Instantiate soup object\n",
    "    soup = BeautifulSoup(page.content)\n",
    "    # Find all elements with a article tag, extract the text and join into one single string\n",
    "    text = ' '.join(map(lambda p: p.text, soup.find_all('article')))\n",
    "    # Remove all \\xa0\n",
    "    text = text.replace('\\xa0', ' ')\n",
    "    return text"
   ]
  },
  {
   "cell_type": "code",
   "execution_count": 8,
   "metadata": {},
   "outputs": [],
   "source": [
    "# Need to find better way to remove the unneeded parts of the first sentence\n",
    "# text = getTextWaPo(\"https://www.washingtonpost.com/news/the-switch/wp/2016/10/18/the-pentagons-massive-new-telescope-is-designed-to-track-space-junk-and-watch-out-for-killer-asteroids/?noredirect=on&utm_term=.fab4cac18632\")\n",
    "text = getTextWaPo(\"https://www.washingtonpost.com/health/2019/06/06/surgeons-opened-her-skull-remove-cancerous-tumor-instead-they-found-tapeworm/?utm_term=.3dff90b31157\")"
   ]
  },
  {
   "cell_type": "code",
   "execution_count": 10,
   "metadata": {},
   "outputs": [],
   "source": [
    "# Encapsulate summary logic into function\n",
    "def summarize(text, n):\n",
    "    '''\n",
    "    This function takes a string of text and the desired number of sentences in the ouput summary as inputs.\n",
    "    '''\n",
    "    # Get list of individual sentences in the text\n",
    "    sents = sent_tokenize(text)\n",
    "    \n",
    "    # The full text must be longer than the desired summary\n",
    "    assert n <= len(sents)\n",
    "    # Get list of individual words in the text\n",
    "    word_sent = word_tokenize(text.lower())\n",
    "    # Create a set of stopwords\n",
    "    _stopwords = set(stopwords.words('english') + list(punctuation) + ['“','”'])\n",
    "    \n",
    "    # Remove stopwords from our text\n",
    "    word_sent = [word for word in word_sent if word not in _stopwords]\n",
    "    # Construct a frequency distribution of words\n",
    "    freq = FreqDist(word_sent)\n",
    "    \n",
    "    # Compute the significance score of each sentence by adding up the word frequencies. Add each ranking to a dictionary for lookup.\n",
    "    ranking = defaultdict(int)\n",
    "    for i, sent in enumerate(sents):\n",
    "        for w in word_tokenize(sent.lower()):\n",
    "            if w in freq:\n",
    "                ranking[i] += freq[w]\n",
    "    \n",
    "    #  Pick most important sentences based on signifiance score\n",
    "    sents_idx = nlargest(n, ranking, key=ranking.get)\n",
    "    # Reorder sentences based on order in original text\n",
    "    return \" \".join([sents[j] for j in sorted(sents_idx)])"
   ]
  },
  {
   "cell_type": "code",
   "execution_count": 11,
   "metadata": {},
   "outputs": [
    {
     "data": {
      "text/plain": [
       "'In September, scrubbed-up surgeons in an operating room at Mount Sinai Hospital in New York City opened Palma’s cranium and steeled themselves for a malignant brain tumor, said Jonathan Rasouli, chief neurosurgery resident at the Icahn School of Medicine at Mount Sinai. But upon inspection, Rasouli said that it was “clearly not a brain tumor.” Doctors diagnosed Palma with neurocysticercosis, a parasitic infection in the brain caused by the tapeworm Taenia solium. [Restaurant chides man for ‘irresponsible reaction’ — sharing a video of a worm in his food] Bobbi Pritt, director of the Clinical Parasitology Laboratory in the Mayo Clinic’s Department of Laboratory Medicine and Pathology, said Taenia solium is not common in the United States but, when people do become infected, the parasite can present in two different forms. For example, Pritt said, if the person who has the adult tapeworm gets the eggs on his or her hands and then prepares another person’s food, that other person can unknowingly eat the eggs.'"
      ]
     },
     "execution_count": 11,
     "metadata": {},
     "output_type": "execute_result"
    }
   ],
   "source": [
    "summarize(text, 4)"
   ]
  },
  {
   "cell_type": "code",
   "execution_count": null,
   "metadata": {},
   "outputs": [],
   "source": []
  }
 ],
 "metadata": {
  "kernelspec": {
   "display_name": "Python 3",
   "language": "python",
   "name": "python3"
  },
  "language_info": {
   "codemirror_mode": {
    "name": "ipython",
    "version": 3
   },
   "file_extension": ".py",
   "mimetype": "text/x-python",
   "name": "python",
   "nbconvert_exporter": "python",
   "pygments_lexer": "ipython3",
   "version": "3.7.3"
  }
 },
 "nbformat": 4,
 "nbformat_minor": 2
}
